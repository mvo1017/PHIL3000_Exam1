{
 "cells": [
  {
   "cell_type": "markdown",
   "id": "8bc86a7d-9283-4493-ba61-676d1c783bf7",
   "metadata": {},
   "source": [
    "# Greek Terminology"
   ]
  },
  {
   "cell_type": "markdown",
   "id": "07e1867a-eff9-4d62-a1fd-6416245c4953",
   "metadata": {},
   "source": [
    "Andraea - good, brave, manly"
   ]
  },
  {
   "cell_type": "markdown",
   "id": "f051776d-fce7-42a5-b999-ac242b92b2cd",
   "metadata": {},
   "source": [
    "Oikos - the land, house, and family, with the male being the authority figure protecting it. It was important for the male to be able to protect his oikos and produce a son that will then go on to protect the oikos."
   ]
  },
  {
   "cell_type": "markdown",
   "id": "64719f01-169a-4a93-8d5e-0d5ac20b229f",
   "metadata": {},
   "source": [
    "Arete - close to virtue or excellence. Highest state a person can achieve. The ideal was Achilles (physical strength and bravery) during Homeric times, but this later expanded due to Plato and Aristotle to include wisdom and justice."
   ]
  },
  {
   "cell_type": "markdown",
   "id": "4b941536-6fe9-4ee8-a0c3-ab409f64f6bd",
   "metadata": {},
   "source": [
    "Agathos - good. The standard for Agathos fluctuates, but typically includes...\n",
    "- Strength\n",
    "- Bravery\n",
    "- Divine favor / ancestry\n",
    "- Land ownership\n",
    "- Beauty\n",
    "- Be a successful politician\n",
    "- Do military service"
   ]
  },
  {
   "cell_type": "markdown",
   "id": "239aa087-58a7-40b9-919c-5f55d19c8542",
   "metadata": {},
   "source": [
    "Kakos - opposite of agathos\n",
    "\n",
    "- inferior\n",
    "- not of divine lineage\n",
    "- ugly\n",
    "- no land"
   ]
  },
  {
   "cell_type": "markdown",
   "id": "99a6825a-71a5-43cf-8816-b2ce65688461",
   "metadata": {},
   "source": [
    "Megalopsuchia - big soul, greatness of soul. Associated with generosity."
   ]
  },
  {
   "cell_type": "markdown",
   "id": "017a4a59",
   "metadata": {},
   "source": [
    "Kleos - Glory. Big kings like Achilles would want this in addition to passing down their oikos. "
   ]
  },
  {
   "cell_type": "markdown",
   "id": "684b766a",
   "metadata": {},
   "source": [
    "Theios - divine / godlike"
   ]
  },
  {
   "cell_type": "markdown",
   "id": "045c6c6e",
   "metadata": {},
   "source": [
    "Ontology - asking of being. Combined with Theory of Knowledge = MetaPhysics"
   ]
  },
  {
   "cell_type": "markdown",
   "id": "ec2ed6f5",
   "metadata": {},
   "source": [
    "Phuasei - nature"
   ]
  },
  {
   "cell_type": "markdown",
   "id": "5cb47687",
   "metadata": {},
   "source": [
    "Apeiron - infinite, boundless, or indefinite. Anaximander used this concept to explain the origin of all things. "
   ]
  },
  {
   "cell_type": "markdown",
   "id": "f746a6e4",
   "metadata": {},
   "source": [
    "stoicheion - science of which everything is made. chemistry"
   ]
  },
  {
   "cell_type": "markdown",
   "id": "08faea70",
   "metadata": {},
   "source": [
    "Monism - one thing makes everything"
   ]
  },
  {
   "cell_type": "markdown",
   "id": "cce5da53",
   "metadata": {},
   "source": [
    "aschune - what you feel when you do something shameful"
   ]
  },
  {
   "cell_type": "markdown",
   "id": "d9653d58",
   "metadata": {},
   "source": [
    "arche - to rule"
   ]
  },
  {
   "cell_type": "markdown",
   "id": "67352508-2088-42ad-aa1a-781aea8fef60",
   "metadata": {},
   "source": [
    "# The Perfect Man : Achilles"
   ]
  },
  {
   "cell_type": "markdown",
   "id": "7241b70e-1c99-41ad-b7e6-684c662e5357",
   "metadata": {},
   "source": [
    "Achilles was who the greeks would model themselves after. He was the personification of Agathos.  "
   ]
  },
  {
   "cell_type": "markdown",
   "id": "c875b0e2-5e4a-4c79-b40d-02a620dc69fc",
   "metadata": {},
   "source": [
    "To know if you were a good person, you compared yourself to how much you were like Achilles."
   ]
  },
  {
   "cell_type": "markdown",
   "id": "4f0fb8c4-6139-4d94-8406-dfbaf1be0147",
   "metadata": {},
   "source": [
    "Handsome? How much do you look like Achilles?"
   ]
  },
  {
   "cell_type": "markdown",
   "id": "54f32745-823a-43e2-9a3b-f58dbc0d6612",
   "metadata": {},
   "source": [
    "It's important to be like Achilles and possess andraea because it was necessary to protect Oikos. \n",
    "    * Alexander the Great aspired to be like Achilles\n",
    "        * From Macedon, Greece. A militaristic state where boys train from age 3 (Spartans train from age 7)\n",
    "        * Shaved like Achilles"
   ]
  },
  {
   "cell_type": "markdown",
   "id": "8008e29c",
   "metadata": {},
   "source": [
    "# Preserving the Oikos"
   ]
  },
  {
   "cell_type": "markdown",
   "id": "9de19d78",
   "metadata": {},
   "source": [
    "One of the greatest achievements of a man was producing an heir (son) that would inherit and protect the land"
   ]
  },
  {
   "cell_type": "markdown",
   "id": "71eb48fe",
   "metadata": {},
   "source": [
    "The sons would carry on the father's legacy and bury him and make sacrifices to him"
   ]
  },
  {
   "cell_type": "markdown",
   "id": "89082050",
   "metadata": {},
   "source": [
    "Women could not truly be an agathos, but could be a good wife.\n",
    "\n",
    "Penelope was seen as the perfect wife because she also protected the Oikos\n",
    "- Loyalty : Despite the belief that Odysseus was dead, she refused to remarry and waited for his return, denying several (300) suitors. If she remarried, then all the land would go to her new husband. Therefore, she protected the oikos."
   ]
  },
  {
   "cell_type": "markdown",
   "id": "d9a384e9-2bed-4870-8434-b8b1cbe613c5",
   "metadata": {},
   "source": [
    "# Homer"
   ]
  },
  {
   "cell_type": "markdown",
   "id": "d6e897a9-39ad-497c-829a-a5c8fa39b6bf",
   "metadata": {},
   "source": [
    "A group of highly influential speakers who told stories of heroes."
   ]
  },
  {
   "cell_type": "markdown",
   "id": "75a81b0d",
   "metadata": {},
   "source": [
    "To recite, you needed good memory, voice, and improv skills "
   ]
  },
  {
   "cell_type": "markdown",
   "id": "0f7892fd-2607-4982-bd5e-ca29b62b8af7",
   "metadata": {},
   "source": [
    "The Illiad - Story of Achilles and has themes of bravery and honor"
   ]
  },
  {
   "cell_type": "markdown",
   "id": "a7bc4b2d-18f2-481b-9ad9-e4bdbbba5196",
   "metadata": {},
   "source": [
    "# Kakos and the Middling Farmers (Can a middling be agathos?)"
   ]
  },
  {
   "cell_type": "markdown",
   "id": "fc213147-7ce0-4774-a58d-a876ee10c407",
   "metadata": {},
   "source": [
    "Hoplites (800 -600 BCE)- amateur infantry soldiers who were the backbone of Greek armies. Named after the large round shield they carried, which was key to their defense strategy. They also had spears"
   ]
  },
  {
   "cell_type": "markdown",
   "id": "cfad7d35-2e9d-4460-ab28-e3b0b6a9ee4e",
   "metadata": {},
   "source": [
    "#### They were usually farmers who were part of the middle class "
   ]
  },
  {
   "cell_type": "markdown",
   "id": "e4699cff",
   "metadata": {},
   "source": [
    "- At some point, it was possible to buy land free from oikos in Greece.\n",
    "- As these farmers grew richer, they came in between the poor and the aristocrats\n",
    "- Eventually, the defense of the city depended on the hoplites. The aristocrats cannot defend with their private armies alone."
   ]
  },
  {
   "cell_type": "markdown",
   "id": "ecb3d2a2-ad23-4993-beb2-7c9d50e72a33",
   "metadata": {},
   "source": [
    "Decisions regarding the city still belonged to the aristocrats. The hoplites were still Kakos, not divine."
   ]
  },
  {
   "cell_type": "markdown",
   "id": "34de4b80-83cd-41da-8134-b1dbd98a9df2",
   "metadata": {},
   "source": [
    "#### Kakos - opposite of agathos\n",
    "\n",
    "- inferior\n",
    "- not of divine lineage\n",
    "- ugly\n",
    "- no land\n",
    "\n",
    "Intention did not matter in this culture. You were either born into a wealthy family or you were automatically a Kakos."
   ]
  },
  {
   "cell_type": "markdown",
   "id": "1de994c9-4db2-4aaf-a1dd-29d2e34a12f8",
   "metadata": {},
   "source": [
    "#### Hesiod - farmer who wrote poems reflecting the values of the middlings"
   ]
  },
  {
   "cell_type": "markdown",
   "id": "03a41219-e374-4cad-9edc-a4b1eaeab443",
   "metadata": {},
   "source": [
    "- wrote about the hard work farmers had to deal with\n",
    "- unfairness in society\n",
    "- If your farm is successful, you have divine favor.\n",
    "    - Now the hard work done by farmers is actually challenging aristo authority\n"
   ]
  },
  {
   "cell_type": "markdown",
   "id": "36d41cc7",
   "metadata": {},
   "source": [
    "Thomas Hobbes introduced the idea (after the 17th century) that everyone was fundamentally equal. Before this, race, gender, and class would make you inequal. This idea goes against Aristotle, who had a hierarchical view of society. "
   ]
  },
  {
   "cell_type": "markdown",
   "id": "640c243d-16b2-473e-b418-06fe0e595a98",
   "metadata": {},
   "source": [
    "# Democracy and the path to Philosophy (~508 BCE)"
   ]
  },
  {
   "cell_type": "markdown",
   "id": "0351efb3-6b4d-4ecb-87cc-a22390f2cdd6",
   "metadata": {},
   "source": [
    "#### Establishment of schools"
   ]
  },
  {
   "cell_type": "markdown",
   "id": "d6625c14-ff84-4f31-9824-43b58cf61773",
   "metadata": {},
   "source": [
    "1. To be a good politician, you need good rhetorical skills"
   ]
  },
  {
   "cell_type": "markdown",
   "id": "a942d038-9bc0-4b16-ab71-eaafa5e69adc",
   "metadata": {},
   "source": [
    "2. To gain these skills, you need to go to rhetoric school"
   ]
  },
  {
   "cell_type": "markdown",
   "id": "2c5715d6-5137-4357-bc5e-df3e56b25283",
   "metadata": {},
   "source": [
    "3. To be a good speaker and better your rhetoric, you need logic"
   ]
  },
  {
   "cell_type": "markdown",
   "id": "03faaa93-3165-44ff-a199-c1bfc1522e49",
   "metadata": {},
   "source": [
    "4. As logic gets developed, this leads to more philosophical thinking"
   ]
  },
  {
   "cell_type": "markdown",
   "id": "52a49682-11c5-4643-8649-f06c0942d618",
   "metadata": {},
   "source": [
    "#### To become a philosopher and Aristos supporting kakos"
   ]
  },
  {
   "cell_type": "markdown",
   "id": "537d21e6-1f95-44c3-a08e-4b7156ec54f4",
   "metadata": {},
   "source": [
    "You needed a lot of leisure time. Which meant not needing to do hard labor or anything like that. So if you weren't already a rich aristocrat, you would need the support of one."
   ]
  },
  {
   "cell_type": "markdown",
   "id": "f2e2e635-85d5-4114-ab4f-1f217e2bc7e7",
   "metadata": {},
   "source": [
    "Why? Aristocrats to enhance their status by being seen as pursuers of wisdom and knowledge. They would also gain support from the middlings this way."
   ]
  },
  {
   "cell_type": "markdown",
   "id": "db0f3d3d-7419-48a4-b169-150e0ae4d2fd",
   "metadata": {},
   "source": [
    "Of course the aristos don't like the kakos middlings, but wanted to get their approval to compete with the other aristos. The aristos would give support because other aristos won't listen to them. "
   ]
  },
  {
   "cell_type": "markdown",
   "id": "d7c5df61-c766-4db0-b418-15db0a116e12",
   "metadata": {},
   "source": [
    "#### Democracy"
   ]
  },
  {
   "cell_type": "markdown",
   "id": "63efad16-565c-4094-933e-dca60c20098b",
   "metadata": {},
   "source": [
    "- universal participation of all native adult males\n",
    "- assembly (and the court): gather to vote on laws, though few regularly attended\n",
    "  - only another assembly can overrule a decision of another assembly\n",
    "- No birth or property requirement"
   ]
  },
  {
   "cell_type": "markdown",
   "id": "58b25202-53ea-492d-b94c-92f3300c0e8c",
   "metadata": {},
   "source": [
    "Why would aristos allow democracy? \n",
    "- It allowed the people to self-govern to some extent. Meaning the aristos didn't have to deal with everything.\n",
    "- non-aristocrats were rising in wealth and power\n",
    "- Rise and fall of tyranny: single non-hereditary monarch wins sole rule and breaks aristocratic rule. often gained support from poorer class\n",
    "- Democracy succeeded tyranny"
   ]
  },
  {
   "cell_type": "markdown",
   "id": "618266b0",
   "metadata": {},
   "source": [
    "Two Agathos models arise, Aristocratic and Democratic"
   ]
  },
  {
   "cell_type": "markdown",
   "id": "712d1448-0a6c-4289-b1dd-7601ba31fb50",
   "metadata": {},
   "source": [
    "### Solon - first Athenian law giver (630-530 BCE)"
   ]
  },
  {
   "cell_type": "markdown",
   "id": "2b0eba44",
   "metadata": {},
   "source": [
    "* Abolished debt slavery. Many poor athenians couldn't pay off their debts and were turned into slaves or had their land confiscated. \n",
    "* Limited the amount of land one could own\n",
    "* Hierarchy based on wealth not birth, but even the poorest could still participate and have a voice.\n",
    "* Believed in balance and was against extreme wealth and extreme poverty.\n",
    "* Codified laws and made them public. This meant everyone had access to them and they were explicitly written down, leading to less corruption"
   ]
  },
  {
   "cell_type": "markdown",
   "id": "a1243486-11ba-425c-9a6b-3c8d188dd2be",
   "metadata": {},
   "source": [
    "Peisistratus - tyrant until his sons die and they're overthrown"
   ]
  },
  {
   "cell_type": "markdown",
   "id": "52be83d7",
   "metadata": {},
   "source": [
    "# Participation in Society"
   ]
  },
  {
   "cell_type": "markdown",
   "id": "d642ce85",
   "metadata": {},
   "source": [
    "Classical Greek Idea of Agathos : participating in politics, serving in the military, and contributing to the community"
   ]
  },
  {
   "cell_type": "markdown",
   "id": "fa455775",
   "metadata": {},
   "source": [
    "After Alexander's death and the rise of more centralized monarchies, individual participation in society and governance became less crucial to one's status as agathos. The emporer had the power, so the average individual had little influence."
   ]
  },
  {
   "cell_type": "markdown",
   "id": "127ac5fb",
   "metadata": {},
   "source": [
    "# Anaximander and the Nature of Reality"
   ]
  },
  {
   "cell_type": "markdown",
   "id": "57a63add",
   "metadata": {},
   "source": [
    "### Anaximander"
   ]
  },
  {
   "cell_type": "markdown",
   "id": "6139b356",
   "metadata": {},
   "source": [
    "* Student of Thales\n",
    "* From Miletus"
   ]
  },
  {
   "cell_type": "markdown",
   "id": "c9c7ae5e",
   "metadata": {},
   "source": [
    "### Thales - Everything is Water"
   ]
  },
  {
   "cell_type": "markdown",
   "id": "ae565066",
   "metadata": {},
   "source": [
    "Believed that everything was either made up of or derived from water. Water is the basic substance.\n",
    "\n",
    "* Has everchanging forms (gas, liquid, solid)\n",
    "* Water is essential for life\n",
    "* He lived close to the water, so this may have impacted how he viewed everything\n",
    "* He predicted eclipses\n",
    "* He went to this island to rent all the olives. He used his knowledge of the weather to predict a good harvest and made a lot of money off this. \n",
    "* He then wrote books about meteorology. \n"
   ]
  },
  {
   "cell_type": "markdown",
   "id": "e27c1399",
   "metadata": {},
   "source": [
    "### Previous Greek Belief\n",
    "\n",
    "- Greeks used God to explain natural phenomena. Thunder is Zeus expressing his anger. Drought means Poseidon is upset.\n",
    "- People often made sacrifices in attempt to please the gods.\n",
    "- Anaximander's introduction of apeiron created a great shift in philosophical thought."
   ]
  },
  {
   "cell_type": "markdown",
   "id": "b5d51948",
   "metadata": {},
   "source": [
    "### Apeiron"
   ]
  },
  {
   "cell_type": "markdown",
   "id": "19678cef",
   "metadata": {},
   "source": [
    "- Apeiron was the first concept to try to explain existence and reduce everything into one thing\n",
    "- Also the first to be conceptual. Thales had water which is real and not just an idea like apeiron.\n",
    "- Both material and immaterial\n",
    "- It is what orders the primordial chaos that makes up the world\n",
    "- Principle that governs all"
   ]
  },
  {
   "cell_type": "markdown",
   "id": "655bfcc6",
   "metadata": {},
   "source": [
    "- Said space was not immaterial"
   ]
  },
  {
   "cell_type": "markdown",
   "id": "b2b0b65c",
   "metadata": {},
   "source": [
    "### The Natural Law"
   ]
  },
  {
   "cell_type": "markdown",
   "id": "68179857",
   "metadata": {},
   "source": [
    "* He believed that the cosmos were operated according to justice and equilibrium. Night and Day pay penalty to each other for their injustice, establishing a natural law and order built around balance of time\n",
    "* Sided with the farmers, stating that there should be a natural balance of power shared \n",
    "* Natural law extends beyond Zeus or any other gods.\n",
    "* Nature can be understood by its patterns."
   ]
  },
  {
   "cell_type": "markdown",
   "id": "1ed52d98",
   "metadata": {},
   "source": [
    "# The Peloponnesion War"
   ]
  },
  {
   "cell_type": "markdown",
   "id": "53281da8",
   "metadata": {},
   "source": [
    "Long term conflict (431-404 BCE)between Sparta and Athens, the two most powerful cities in ancient Greece. This war marked the end of the Golden Age of Athens."
   ]
  },
  {
   "cell_type": "markdown",
   "id": "3eb1a6cd",
   "metadata": {},
   "source": [
    "### Sparta"
   ]
  },
  {
   "cell_type": "markdown",
   "id": "16aabeb1",
   "metadata": {},
   "source": [
    "- a militaristic and oligarchic city-state located in the Peloponnesian peninsula. It had a rigid social structure, a powerful army, and a conservative, aristocratic government. Spartans valued discipline, military prowess, and communal stability, and they trained their male citizens from a young age to be elite warriors. \n",
    "- Known for their powerful army. Sparta at 479 BC defeated the persians and had roughly 8000 citizens.\n"
   ]
  },
  {
   "cell_type": "markdown",
   "id": "021d0812",
   "metadata": {},
   "source": [
    "### Athens"
   ]
  },
  {
   "cell_type": "markdown",
   "id": "6fdb4a05",
   "metadata": {},
   "source": [
    "- a cultural and intellectual hub, leading the Greek world in arts, philosophy, and architecture. Athens developed a strong democratic system that allowed broader political participation, although only free male citizens could vote."
   ]
  },
  {
   "cell_type": "markdown",
   "id": "350d5751",
   "metadata": {},
   "source": [
    "### Causes of the War"
   ]
  },
  {
   "cell_type": "markdown",
   "id": "3e847909",
   "metadata": {},
   "source": [
    "- Athens growing power alarmed Sparta and its allies. Its powerful navy exerted control over the Aegan Sea. This threatened Sparta as the leading power in Greece. \n",
    "- There were ideological differences. Athens was a democracy whereas Sparta was a rigid oligarchy with a focus on military.\n",
    "- All Greek wars are about land, to an extent"
   ]
  },
  {
   "cell_type": "markdown",
   "id": "6e3a3f56",
   "metadata": {},
   "source": [
    "### The Fall of Athens 404 BCE"
   ]
  },
  {
   "cell_type": "markdown",
   "id": "15822ce0",
   "metadata": {},
   "source": [
    "- Athens was forced to surrender.\n",
    "- Athens walls were torn down\n",
    "- Navy was reduced to a small number of ships"
   ]
  },
  {
   "cell_type": "markdown",
   "id": "06767020",
   "metadata": {},
   "source": [
    "Sparta became the dominant power in Greece, although this was short lived. Their rule was harsh and unpopular. The cost of the war weakened them and their resources were drained trying to maintain their empire."
   ]
  },
  {
   "cell_type": "markdown",
   "id": "225b5e5d",
   "metadata": {},
   "source": [
    "### Timeline (from 9/5 class where we discussed the speech) in BCE\n",
    "\n",
    "* 508: birth of Athenian democracy\n",
    "* 490-480: Persian Wars\n",
    "* 480- : beginning of Athenian Empire\n",
    "* 469: Socrates is born\n",
    "* 460: full democracy, start of Pericles’ ascent\n",
    "* 431: beginning of Peloponnesian War\n",
    "* 428: Pericles’ death\n",
    "* 424-ish: Plato is born\n"
   ]
  },
  {
   "cell_type": "markdown",
   "id": "bd424a3c",
   "metadata": {},
   "source": [
    "# Pericles (leader of the Golden Age of Athens)"
   ]
  },
  {
   "cell_type": "markdown",
   "id": "f8c72a21-a7aa-4584-aa89-001d998665f0",
   "metadata": {},
   "source": [
    "* born into a wealthy, aristocratic family and had access to a good education.\n",
    "* was elected military general many times, giving him military and political power\n",
    "* Athenian leader who built an empire/Golden Age of Athens for 30 years, until 460 (served as a general)\n",
    "* Athens was a democracy but in practice, the rule of one man \n",
    "* Hated by aristocrats\n",
    "* The perfect example of democratic agathos \n",
    "    * Brave         \n",
    "    * defends, enhances oikos (as leader this is the polis)           \n",
    "    * successful          \n",
    "    * divine favor in his blood (he was rich)      \n",
    "    * beautiful (hid his weird shaped head in helmet)              \n",
    "    * heirs\n",
    "\n",
    "* \"we tax you but we could be taxing you more\"\n",
    "* Both parents must be citizens or you're not a citizen after he passed the law in 1450\n"
   ]
  },
  {
   "cell_type": "markdown",
   "id": "f74588f5",
   "metadata": {},
   "source": [
    "## Perciles Funeral Oration"
   ]
  },
  {
   "cell_type": "markdown",
   "id": "abe08829",
   "metadata": {},
   "source": [
    "At the end of the first year of the war, Pericles gives a speech to honor the fallen and boost morale. He must somehow defend Athens and its amateur army against Sparta's professional army. "
   ]
  },
  {
   "cell_type": "markdown",
   "id": "57bf2aba",
   "metadata": {},
   "source": [
    "* claims arete is all about acting\n",
    "* Parthenon : statement of power. \"Look what we can build!\"\n",
    "* emphasizes bravery and honors the men that gave their life in battle and how they are agathos\n",
    "* talks about how Athens is the paradigm of others\n",
    "* Athens is much better because of democracy and talks about how Sparta only cares about military power \n",
    "* Athens does not shun foreigners\n",
    "* Better wisdom, laws, and education compared to Sparta\n",
    "* Your birth does not determine your life, you can still hold office\n",
    "\n"
   ]
  },
  {
   "cell_type": "markdown",
   "id": "d37f3124-e73c-4e40-a5e3-c7b52a676cd7",
   "metadata": {},
   "source": [
    "# Plato and Plato's Apology"
   ]
  },
  {
   "cell_type": "markdown",
   "id": "56e2d731-295d-484b-be68-125197c31e61",
   "metadata": {},
   "source": [
    "Plato changed societal standards for being an Agathos. He says you have to be able to contemplate well and be military / societally established \n"
   ]
  },
  {
   "cell_type": "markdown",
   "id": "5a3ef16a-60a5-4dd3-83a3-dfada45fc242",
   "metadata": {},
   "source": [
    "During his time, Agathos meant being an active member of the community and making decisions"
   ]
  },
  {
   "cell_type": "markdown",
   "id": "6a88d099-7349-4b71-b867-96087b5e5024",
   "metadata": {},
   "source": [
    "Plato and Socrates fought well in battle"
   ]
  },
  {
   "cell_type": "markdown",
   "id": "1e7299e5-cc1f-437c-a6e4-1732aff4b518",
   "metadata": {},
   "source": [
    "After Plato you can go to philosophy school and still be Agathos. Plato established the first philosophy school."
   ]
  },
  {
   "cell_type": "markdown",
   "id": "bae15ffe",
   "metadata": {},
   "source": [
    "Archaic Period: 700-500 BCE \n",
    "\n",
    "Classical Period: 500–323 BCE \n",
    "\n",
    "Alexander the Great dies; afterward, Greek cities were controlled by emperors, and people lost control over their own fate somewhat \n",
    "\n",
    "Hellenistic Period 323-(around 30) BCE \n",
    "\n",
    "We get the Stoics, Skeptics, and Cynics \n",
    "\n",
    "Idea of internal freedom \n",
    "\n",
    "Plato’s forms \n",
    "\n",
    "A form has properties in an absolute way; behind an oak or a cedar there is the form of a tree, an ideal somewhat  \n",
    "\n",
    "Also helps with the question “who is a good person?”; you must look to the form \n",
    "\n",
    "Aretē: virtue, success, excellence are all rough translations "
   ]
  },
  {
   "cell_type": "markdown",
   "id": "8a144154",
   "metadata": {},
   "source": [
    "## Socrates 470–399 BCE"
   ]
  },
  {
   "cell_type": "markdown",
   "id": "1c921717",
   "metadata": {},
   "source": [
    "* His agathos was more passive compared to Pericles\n",
    "* Left no written works. He is known through the writings of his students, like Plato"
   ]
  },
  {
   "cell_type": "markdown",
   "id": "ea9e21ba-0b30-48db-ac5f-b1ac5ca912e4",
   "metadata": {},
   "source": [
    "## Why he was agathos\n",
    "\n",
    "* Divine favor - oracle speaks to him (tells him to not participate in politics). Oracles answer to Apollo \n",
    "* Bravery - he was a soldier\n",
    "* Beauty - he had inner beauty. His soul was beautiful as he was wise.\n",
    "* Heirs - he had sons (although his rich friends took care of them)\n",
    "* Success - his whole life was a quest for arete"
   ]
  },
  {
   "cell_type": "markdown",
   "id": "1d5af99b",
   "metadata": {},
   "source": [
    "## Apology"
   ]
  },
  {
   "cell_type": "markdown",
   "id": "8baf64c9",
   "metadata": {},
   "source": [
    "* written by Plato\n",
    "* Socrates was mainly being charged for corrupting the youth, and being heterodoxy / atheist"
   ]
  },
  {
   "cell_type": "markdown",
   "id": "fc53283d",
   "metadata": {},
   "source": [
    "### Atheism"
   ]
  },
  {
   "cell_type": "markdown",
   "id": "3173a6d0",
   "metadata": {},
   "source": [
    "Socrates was being charged for not recognizing the gods recognized by the democracy, and for inventing new deities."
   ]
  },
  {
   "cell_type": "markdown",
   "id": "f05f6a4f",
   "metadata": {},
   "source": [
    "An oracle of Delphi spoke to Socrates telling him to not engage in politics and that he was the wisest of all men. Recognizing his lack of knowledge in politics, he claims that he must be the wisest because he knows that he knows nothing. He explains that he considered it his duty to question wise men and expose their falsified wisdom as ignorance. This made him gain admiration from the youth, and hatred from those he embarrassed. "
   ]
  },
  {
   "cell_type": "markdown",
   "id": "d097e614",
   "metadata": {},
   "source": [
    "“I believe in divinity and demigods, so how could I not believe in Gods as well”"
   ]
  },
  {
   "cell_type": "markdown",
   "id": "c6ef6ec7",
   "metadata": {},
   "source": [
    "### Sentencing"
   ]
  },
  {
   "cell_type": "markdown",
   "id": "9c2b1c47",
   "metadata": {},
   "source": [
    "By a narrow margin, he is sentenced to death. He is offered to state his counter-proposal but rejects prison and exile. He says that they should honor him with a tasty meal for being such a service to the state. He offers to pay a small fine, but the judge rejects this. He accepts death and states that since only the gods know what happens after death, he would be foolish to fear what he does not know. "
   ]
  },
  {
   "cell_type": "markdown",
   "id": "af6e3fb8",
   "metadata": {},
   "source": [
    "He died by drinking hemlock, a poisonous plant."
   ]
  },
  {
   "cell_type": "markdown",
   "id": "26acafe0",
   "metadata": {},
   "source": []
  }
 ],
 "metadata": {
  "kernelspec": {
   "display_name": "Python 3 (ipykernel)",
   "language": "python",
   "name": "python3"
  },
  "language_info": {
   "codemirror_mode": {
    "name": "ipython",
    "version": 3
   },
   "file_extension": ".py",
   "mimetype": "text/x-python",
   "name": "python",
   "nbconvert_exporter": "python",
   "pygments_lexer": "ipython3",
   "version": "3.12.4"
  }
 },
 "nbformat": 4,
 "nbformat_minor": 5
}
